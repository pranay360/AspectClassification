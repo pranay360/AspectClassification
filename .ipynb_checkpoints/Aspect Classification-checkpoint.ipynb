{
 "cells": [
  {
   "cell_type": "markdown",
   "metadata": {},
   "source": [
    "# REVIEW ASPECT CLASSIFICATION\n",
    "--------\n",
    "#### Dataset used aspect annotated restaurant reviews.\n",
    "#### Required Libraries Sklearn, NLTK, Gensim, matplotlib, pandas"
   ]
  },
  {
   "cell_type": "code",
   "execution_count": 1,
   "metadata": {},
   "outputs": [],
   "source": [
    "import re\n",
    "import nltk\n",
    "import gensim\n",
    "import itertools\n",
    "import numpy as np\n",
    "import pandas as pd\n",
    "import matplotlib.pyplot as plt\n",
    "from sklearn.svm import LinearSVC\n",
    "from sklearn.cluster import KMeans\n",
    "from nltk.stem.porter import PorterStemmer\n",
    "from sklearn.model_selection import train_test_split\n",
    "from sklearn.linear_model import LogisticRegression\n",
    "from sklearn.feature_extraction import DictVectorizer\n",
    "from sklearn.metrics import classification_report, roc_auc_score, roc_curve, auc, confusion_matrix\n",
    "%matplotlib inline\n",
    "\n",
    "aspect_map={0:\"NASP\",1:\"ASP\"}\n",
    "stemmer = PorterStemmer()"
   ]
  },
  {
   "cell_type": "markdown",
   "metadata": {},
   "source": [
    "#### Functions to read the Annotated Data file and Extract Sentences and Corresponding Aspects"
   ]
  },
  {
   "cell_type": "code",
   "execution_count": 2,
   "metadata": {},
   "outputs": [],
   "source": [
    "def read_data(path):\n",
    "    print \"Reading Annotated Data File\"\n",
    "    with open(\"aspect_annoated_file.txt\") as f:\n",
    "        data=f.read()\n",
    "    return data\n",
    "\n",
    "def extract(data):\n",
    "    print \"Extracting Sentences and Tags. Generating POS tags for Words.\"\n",
    "    data=np.array(data.split(\"\\n\\n\"))\n",
    "    data=np.array([d.split(\"\\n\") for d in data])[:-1]\n",
    "    Sentences=[[] for i in range(data.shape[0])]\n",
    "    Aspects=[[] for i in range(data.shape[0])]\n",
    "    for i,d in enumerate(data):\n",
    "        for j,word in enumerate(d):\n",
    "            x,_y=word.split('\\t')\n",
    "            Sentences[i].append(x)\n",
    "            Aspects[i].append(_y)\n",
    "            d[j]=(x,_y)\n",
    "    data=np.array(data)\n",
    "    Sentences=np.array(Sentences)\n",
    "    Aspects=np.array(Aspects)\n",
    "    POSTags = nltk.pos_tag_sents(Sentences)\n",
    "    for i, sent in enumerate(POSTags):\n",
    "        POSTags[i]=[l for w,l in sent]\n",
    "    return Sentences, zip(Aspects, POSTags)"
   ]
  },
  {
   "cell_type": "markdown",
   "metadata": {},
   "source": [
    "#### Function to extract features from  a given word. The following features are used-\n",
    "1. The word itself\n",
    "2. POS tag of the word\n",
    "3. Word position last or first?\n",
    "4. Word upper case and lower case features\n",
    "5. Context through previous word and next word\n",
    "6. Context through previous POS tag and next POS tag.\n",
    "7. Aspect of previous word"
   ]
  },
  {
   "cell_type": "code",
   "execution_count": 3,
   "metadata": {},
   "outputs": [],
   "source": [
    "def features(sentence, aspect, pos, index):\n",
    "    ft_dict={\n",
    "        'word': sentence[index],\n",
    "        'wordPOS': pos[index],\n",
    "        'isFirst': index == 0,\n",
    "        'isLast': index == len(sentence) - 1,\n",
    "        'isCapitalized': sentence[index][0].upper() == sentence[index][0],\n",
    "        'case': \"upper\" if sentence[index].upper() == sentence[index] else \"lower\",\n",
    "        'prevWord': '' if index == 0 else sentence[index - 1],\n",
    "        'nextWord': '' if index == len(sentence) - 1 else sentence[index + 1],\n",
    "        #'hyphen': True if sentence[index].find(\"-\") else False,\n",
    "        #'prevWord2': '' if index in [0,1] else stemmer.stem(sentence[index - 2].lower()),\n",
    "        #'nextWord2': '' if index in [len(sentence)-1,len(sentence)-2]  else stemmer.stem(sentence[index + 2].lower()),\n",
    "        'prevPOS': '' if index == 0 else pos[index-1],\n",
    "        'nextPOS': '' if index == len(sentence) - 1 else pos[index + 1],\n",
    "        #'prevPOS2': '' if index in [0,1] else pos[index-2],\n",
    "        #'nextPOS2': '' if index in [len(sentence)-1,len(sentence)-2] else pos[index + 2],\n",
    "        'prevASP': '' if index == 0 else aspect[index - 1],\n",
    "    }\n",
    "    return ft_dict"
   ]
  },
  {
   "cell_type": "markdown",
   "metadata": {},
   "source": [
    "#### Function to convert the given annotated data to corresponding features (X) and aspects (y), ready to be fed to the machine learning model"
   ]
  },
  {
   "cell_type": "code",
   "execution_count": 4,
   "metadata": {},
   "outputs": [],
   "source": [
    "def generate_features(Sentences, Aspects, POSTags):\n",
    "    print \"Generating Features X and Labels y\"\n",
    "    def checkaspect(aspect):\n",
    "        if aspect==\"ASP\":\n",
    "            return 1\n",
    "        else:\n",
    "            return 0\n",
    "        return 0\n",
    "    X = np.array([])\n",
    "    for i,s in enumerate(Sentences):\n",
    "        for j, w in enumerate(s):\n",
    "            X = np.append(X,features(s, Aspects[i],POSTags[i],j))\n",
    "    y = np.array([])\n",
    "    for i,l in enumerate(Aspects):\n",
    "        y = np.append(y, map(lambda x: checkaspect(x), l))\n",
    "    y = y.ravel()\n",
    "    return X,y"
   ]
  },
  {
   "cell_type": "markdown",
   "metadata": {},
   "source": [
    "#### Data Conversion to Features and Labels and POS.\n",
    "#### Splitting the data into training dataset and testing dataset"
   ]
  },
  {
   "cell_type": "code",
   "execution_count": 5,
   "metadata": {},
   "outputs": [
    {
     "name": "stdout",
     "output_type": "stream",
     "text": [
      "Reading Annotated Data File\n",
      "Extracting Sentences and Tags. Generating POS tags for Words.\n",
      "Generating Features X and Labels y\n",
      "Generating Features X and Labels y\n"
     ]
    }
   ],
   "source": [
    "data = read_data(\"\")\n",
    "Sentences, Labels = extract(data)\n",
    "Sentences, Sentences_test, Labels, Labels_test = train_test_split(Sentences, Labels, test_size=0.25, random_state=100)\n",
    "Aspects=[a for a,p in Labels]\n",
    "POSTags=[p for a,p in Labels]\n",
    "Aspects_test=[a for a,p in Labels_test]\n",
    "POSTags_test=[p for a,p in Labels_test]\n",
    "X_train,y_train = generate_features(Sentences,Aspects,POSTags)\n",
    "X_test,y_test = generate_features(Sentences_test,Aspects_test,POSTags_test)"
   ]
  },
  {
   "cell_type": "markdown",
   "metadata": {},
   "source": [
    "#### Converting the feature dictionaries to a unique fixed length one-hot vector  "
   ]
  },
  {
   "cell_type": "code",
   "execution_count": 6,
   "metadata": {},
   "outputs": [],
   "source": [
    "vect= DictVectorizer()\n",
    "X_train=vect.fit_transform(X_train)\n",
    "X_test=vect.transform(X_test)"
   ]
  },
  {
   "cell_type": "markdown",
   "metadata": {},
   "source": [
    "##### Example one-hot feature vector"
   ]
  },
  {
   "cell_type": "code",
   "execution_count": 7,
   "metadata": {},
   "outputs": [
    {
     "name": "stdout",
     "output_type": "stream",
     "text": [
      "Index([u'wordPOS=WRB', u'wordPOS=WP', u'wordPOS=WDT', u'wordPOS=VBZ',\n",
      "       u'wordPOS=VBP', u'wordPOS=VBN', u'wordPOS=VBG', u'wordPOS=VBD',\n",
      "       u'wordPOS=VB', u'wordPOS=UH',\n",
      "       ...\n",
      "       u'nextPOS=.', u'nextPOS=,', u'nextPOS=)', u'nextPOS=(', u'nextPOS=',\n",
      "       u'isLast', u'isFirst', u'isCapitalized', u'case=upper', u'case=lower'],\n",
      "      dtype='object', length=6343)\n"
     ]
    },
    {
     "data": {
      "text/html": [
       "<div>\n",
       "<table border=\"1\" class=\"dataframe\">\n",
       "  <thead>\n",
       "    <tr style=\"text-align: right;\">\n",
       "      <th></th>\n",
       "      <th>wordPOS=WRB</th>\n",
       "      <th>wordPOS=WP</th>\n",
       "      <th>wordPOS=WDT</th>\n",
       "      <th>wordPOS=VBZ</th>\n",
       "      <th>wordPOS=VBP</th>\n",
       "      <th>wordPOS=VBN</th>\n",
       "      <th>wordPOS=VBG</th>\n",
       "      <th>wordPOS=VBD</th>\n",
       "      <th>wordPOS=VB</th>\n",
       "      <th>wordPOS=UH</th>\n",
       "      <th>...</th>\n",
       "      <th>nextPOS=.</th>\n",
       "      <th>nextPOS=,</th>\n",
       "      <th>nextPOS=)</th>\n",
       "      <th>nextPOS=(</th>\n",
       "      <th>nextPOS=</th>\n",
       "      <th>isLast</th>\n",
       "      <th>isFirst</th>\n",
       "      <th>isCapitalized</th>\n",
       "      <th>case=upper</th>\n",
       "      <th>case=lower</th>\n",
       "    </tr>\n",
       "  </thead>\n",
       "  <tbody>\n",
       "    <tr>\n",
       "      <th>244</th>\n",
       "      <td>1.0</td>\n",
       "      <td>0.0</td>\n",
       "      <td>0.0</td>\n",
       "      <td>0.0</td>\n",
       "      <td>0.0</td>\n",
       "      <td>0.0</td>\n",
       "      <td>0.0</td>\n",
       "      <td>0.0</td>\n",
       "      <td>0.0</td>\n",
       "      <td>0.0</td>\n",
       "      <td>...</td>\n",
       "      <td>0.0</td>\n",
       "      <td>0.0</td>\n",
       "      <td>0.0</td>\n",
       "      <td>0.0</td>\n",
       "      <td>0.0</td>\n",
       "      <td>0.0</td>\n",
       "      <td>0.0</td>\n",
       "      <td>0.0</td>\n",
       "      <td>0.0</td>\n",
       "      <td>0.0</td>\n",
       "    </tr>\n",
       "    <tr>\n",
       "      <th>5155</th>\n",
       "      <td>1.0</td>\n",
       "      <td>0.0</td>\n",
       "      <td>0.0</td>\n",
       "      <td>0.0</td>\n",
       "      <td>0.0</td>\n",
       "      <td>0.0</td>\n",
       "      <td>0.0</td>\n",
       "      <td>0.0</td>\n",
       "      <td>0.0</td>\n",
       "      <td>0.0</td>\n",
       "      <td>...</td>\n",
       "      <td>0.0</td>\n",
       "      <td>0.0</td>\n",
       "      <td>1.0</td>\n",
       "      <td>0.0</td>\n",
       "      <td>0.0</td>\n",
       "      <td>0.0</td>\n",
       "      <td>0.0</td>\n",
       "      <td>0.0</td>\n",
       "      <td>0.0</td>\n",
       "      <td>0.0</td>\n",
       "    </tr>\n",
       "    <tr>\n",
       "      <th>6533</th>\n",
       "      <td>1.0</td>\n",
       "      <td>0.0</td>\n",
       "      <td>0.0</td>\n",
       "      <td>0.0</td>\n",
       "      <td>0.0</td>\n",
       "      <td>0.0</td>\n",
       "      <td>0.0</td>\n",
       "      <td>0.0</td>\n",
       "      <td>0.0</td>\n",
       "      <td>0.0</td>\n",
       "      <td>...</td>\n",
       "      <td>0.0</td>\n",
       "      <td>0.0</td>\n",
       "      <td>0.0</td>\n",
       "      <td>0.0</td>\n",
       "      <td>0.0</td>\n",
       "      <td>1.0</td>\n",
       "      <td>0.0</td>\n",
       "      <td>0.0</td>\n",
       "      <td>0.0</td>\n",
       "      <td>0.0</td>\n",
       "    </tr>\n",
       "    <tr>\n",
       "      <th>4380</th>\n",
       "      <td>1.0</td>\n",
       "      <td>0.0</td>\n",
       "      <td>0.0</td>\n",
       "      <td>0.0</td>\n",
       "      <td>0.0</td>\n",
       "      <td>0.0</td>\n",
       "      <td>0.0</td>\n",
       "      <td>0.0</td>\n",
       "      <td>0.0</td>\n",
       "      <td>0.0</td>\n",
       "      <td>...</td>\n",
       "      <td>0.0</td>\n",
       "      <td>0.0</td>\n",
       "      <td>0.0</td>\n",
       "      <td>0.0</td>\n",
       "      <td>0.0</td>\n",
       "      <td>0.0</td>\n",
       "      <td>0.0</td>\n",
       "      <td>0.0</td>\n",
       "      <td>0.0</td>\n",
       "      <td>0.0</td>\n",
       "    </tr>\n",
       "    <tr>\n",
       "      <th>1498</th>\n",
       "      <td>1.0</td>\n",
       "      <td>0.0</td>\n",
       "      <td>0.0</td>\n",
       "      <td>0.0</td>\n",
       "      <td>0.0</td>\n",
       "      <td>0.0</td>\n",
       "      <td>0.0</td>\n",
       "      <td>0.0</td>\n",
       "      <td>0.0</td>\n",
       "      <td>0.0</td>\n",
       "      <td>...</td>\n",
       "      <td>0.0</td>\n",
       "      <td>0.0</td>\n",
       "      <td>0.0</td>\n",
       "      <td>0.0</td>\n",
       "      <td>0.0</td>\n",
       "      <td>0.0</td>\n",
       "      <td>0.0</td>\n",
       "      <td>0.0</td>\n",
       "      <td>0.0</td>\n",
       "      <td>0.0</td>\n",
       "    </tr>\n",
       "  </tbody>\n",
       "</table>\n",
       "<p>5 rows × 6343 columns</p>\n",
       "</div>"
      ],
      "text/plain": [
       "      wordPOS=WRB  wordPOS=WP  wordPOS=WDT  wordPOS=VBZ  wordPOS=VBP  \\\n",
       "244           1.0         0.0          0.0          0.0          0.0   \n",
       "5155          1.0         0.0          0.0          0.0          0.0   \n",
       "6533          1.0         0.0          0.0          0.0          0.0   \n",
       "4380          1.0         0.0          0.0          0.0          0.0   \n",
       "1498          1.0         0.0          0.0          0.0          0.0   \n",
       "\n",
       "      wordPOS=VBN  wordPOS=VBG  wordPOS=VBD  wordPOS=VB  wordPOS=UH  \\\n",
       "244           0.0          0.0          0.0         0.0         0.0   \n",
       "5155          0.0          0.0          0.0         0.0         0.0   \n",
       "6533          0.0          0.0          0.0         0.0         0.0   \n",
       "4380          0.0          0.0          0.0         0.0         0.0   \n",
       "1498          0.0          0.0          0.0         0.0         0.0   \n",
       "\n",
       "         ...      nextPOS=.  nextPOS=,  nextPOS=)  nextPOS=(  nextPOS=  \\\n",
       "244      ...            0.0        0.0        0.0        0.0       0.0   \n",
       "5155     ...            0.0        0.0        1.0        0.0       0.0   \n",
       "6533     ...            0.0        0.0        0.0        0.0       0.0   \n",
       "4380     ...            0.0        0.0        0.0        0.0       0.0   \n",
       "1498     ...            0.0        0.0        0.0        0.0       0.0   \n",
       "\n",
       "      isLast  isFirst  isCapitalized  case=upper  case=lower  \n",
       "244      0.0      0.0            0.0         0.0         0.0  \n",
       "5155     0.0      0.0            0.0         0.0         0.0  \n",
       "6533     1.0      0.0            0.0         0.0         0.0  \n",
       "4380     0.0      0.0            0.0         0.0         0.0  \n",
       "1498     0.0      0.0            0.0         0.0         0.0  \n",
       "\n",
       "[5 rows x 6343 columns]"
      ]
     },
     "execution_count": 7,
     "metadata": {},
     "output_type": "execute_result"
    }
   ],
   "source": [
    "df=pd.DataFrame(data=X_train.toarray(),columns=vect.feature_names_[::-1])\n",
    "print df.columns\n",
    "df.sample(frac=1).head()"
   ]
  },
  {
   "cell_type": "markdown",
   "metadata": {},
   "source": [
    "#### Using a Linear Support Vector Classificication machine learning model to fit the word features to corresponding aspects"
   ]
  },
  {
   "cell_type": "code",
   "execution_count": 8,
   "metadata": {},
   "outputs": [
    {
     "data": {
      "text/plain": [
       "LinearSVC(C=1.0, class_weight=None, dual=True, fit_intercept=True,\n",
       "     intercept_scaling=1, loss='squared_hinge', max_iter=1000,\n",
       "     multi_class='ovr', penalty='l2', random_state=None, tol=0.0001,\n",
       "     verbose=0)"
      ]
     },
     "execution_count": 8,
     "metadata": {},
     "output_type": "execute_result"
    }
   ],
   "source": [
    "clf = LinearSVC()\n",
    "clf.fit(X_train,y_train)"
   ]
  },
  {
   "cell_type": "markdown",
   "metadata": {},
   "source": [
    "#### Using the trained model, generating predictions on the words present in the test dataset. \n",
    "### Word Level Accuracy\n",
    "-----------\n",
    "#### Displaying \"Word Level Accuracy\" results"
   ]
  },
  {
   "cell_type": "code",
   "execution_count": 9,
   "metadata": {},
   "outputs": [
    {
     "name": "stdout",
     "output_type": "stream",
     "text": [
      "\t\t\tModel Performance Metrics\n",
      "\n",
      "             precision    recall  f1-score   support\n",
      "\n",
      "        0.0       0.99      1.00      0.99      3154\n",
      "        1.0       0.97      0.92      0.95       362\n",
      "\n",
      "avg / total       0.99      0.99      0.99      3516\n",
      "\n"
     ]
    }
   ],
   "source": [
    "preds=clf.predict(X_test)\n",
    "print \"\\t\\t\\tModel Performance Metrics\\n\"\n",
    "print classification_report(y_test, preds)"
   ]
  },
  {
   "cell_type": "markdown",
   "metadata": {},
   "source": [
    "#### Function for plotting confusion matrix."
   ]
  },
  {
   "cell_type": "code",
   "execution_count": 10,
   "metadata": {},
   "outputs": [
    {
     "data": {
      "image/png": "[encoded data removed]",
      "text/plain": [
       "<matplotlib.figure.Figure at 0x7fb9aa633a50>"
      ]
     },
     "metadata": {},
     "output_type": "display_data"
    }
   ],
   "source": [
    "def plot_confusion_matrix(cm, classes,title='Confusion matrix',cmap=plt.cm.Blues):\n",
    "    plt.imshow(cm, interpolation='nearest', cmap=cmap)\n",
    "    plt.title(title)\n",
    "    plt.colorbar()\n",
    "    tick_marks = np.arange(len(classes))\n",
    "    plt.xticks(tick_marks, classes, rotation=45)\n",
    "    plt.yticks(tick_marks, classes)\n",
    "    thresh = cm.max() / 2.\n",
    "    for i, j in itertools.product(range(cm.shape[0]), range(cm.shape[1])):\n",
    "        plt.text(j, i, cm[i, j],\n",
    "                 horizontalalignment=\"center\",\n",
    "                 color=\"white\" if cm[i, j] > thresh else \"black\")\n",
    "    plt.tight_layout()\n",
    "    plt.ylabel('True label')\n",
    "    plt.xlabel('Predicted label')\n",
    "\n",
    "cnf_matrix=confusion_matrix(y_test,preds)\n",
    "plt.figure()\n",
    "class_names=[\"ASP\",\"NASP\"]\n",
    "plot_confusion_matrix(cnf_matrix, classes=class_names,title='Confusion matrix')"
   ]
  },
  {
   "cell_type": "markdown",
   "metadata": {},
   "source": [
    "#### Function to plot the ROC Curve."
   ]
  },
  {
   "cell_type": "code",
   "execution_count": 11,
   "metadata": {},
   "outputs": [
    {
     "data": {
      "image/png": "[encoded data removed]",
      "text/plain": [
       "<matplotlib.figure.Figure at 0x7fb9e82d8b10>"
      ]
     },
     "metadata": {},
     "output_type": "display_data"
    }
   ],
   "source": [
    "def plot_roc_curve(true, predicted):\n",
    "    fpr,tpr,t=roc_curve(true,predicted)\n",
    "    roc_auc=auc(fpr,tpr)\n",
    "    plt.title('Receiver Operating Characteristic')\n",
    "    plt.plot(fpr, tpr, 'b',label='AUC = %0.2f'% roc_auc)\n",
    "    plt.legend(loc='lower right')\n",
    "    plt.plot([0,1],[0,1],'r--')\n",
    "    plt.xlim([-0.1,1.2])\n",
    "    plt.ylim([-0.1,1.2])\n",
    "    plt.ylabel('True Positive Rate')\n",
    "    plt.xlabel('False Positive Rate')\n",
    "    plt.show()\n",
    "plot_roc_curve(y_test,preds)"
   ]
  },
  {
   "cell_type": "markdown",
   "metadata": {},
   "source": [
    "### Sentence Level Accuracy\n",
    "----------\n",
    "#### Function for calculating Sentence Level Accuracy."
   ]
  },
  {
   "cell_type": "code",
   "execution_count": 12,
   "metadata": {},
   "outputs": [],
   "source": [
    "def sentence_accuracy(Sentences, POSTags, OrigTags):\n",
    "    count=0\n",
    "    print \"Examples where model is wrong: \\n\\n\"\n",
    "    asp=[]\n",
    "    for i, sent in enumerate(Sentences):\n",
    "        inp=sent\n",
    "        pos=POSTags[i]\n",
    "        tags,predasp,orasp=[],[],[]\n",
    "        for j, w in enumerate(inp):\n",
    "            fts=vect.transform(features(inp,tags,pos,j))\n",
    "            tags.append(aspect_map[clf.predict(fts)[0]])\n",
    "            if tags[j]==\"ASP\":\n",
    "                predasp.append(w)\n",
    "                asp.append(w)\n",
    "            if OrigTags[i][j]==\"ASP\":\n",
    "                orasp.append(w)     \n",
    "        if set(predasp)==set(orasp):\n",
    "            count+=1\n",
    "        else:\n",
    "            print \"Text: \", \" \".join(sent)\n",
    "            print \"Original Aspects\", set(orasp)\n",
    "            print \"Predicted Aspects\", set(predasp)\n",
    "            print\n",
    "    return \"Sentence Level Accuracy: \" + str(float(count)/Sentences.shape[0]*100)+ \"%\", asp"
   ]
  },
  {
   "cell_type": "code",
   "execution_count": 13,
   "metadata": {
    "scrolled": false
   },
   "outputs": [
    {
     "name": "stdout",
     "output_type": "stream",
     "text": [
      "Examples where model is wrong: \n",
      "\n",
      "\n",
      "Text:  I go and eat out at many different restaurants and this is one place you have go and try .\n",
      "Original Aspects set(['place'])\n",
      "Predicted Aspects set([])\n",
      "\n",
      "Text:  Furthermore , the rice had no seasoning , so the sushi was bland and disgusting .\n",
      "Original Aspects set(['seasoning', 'rice', 'sushi'])\n",
      "Predicted Aspects set(['rice', 'sushi'])\n",
      "\n",
      "Text:  Sit outside in the warm weather; inside for cozy winter .\n",
      "Original Aspects set(['winter'])\n",
      "Predicted Aspects set([])\n",
      "\n",
      "Text:  The atmosphere is unheralded , the service impecible , and the food magnificant .\n",
      "Original Aspects set(['food', 'atmosphere', 'service', 'impecible'])\n",
      "Predicted Aspects set(['food', 'atmosphere', 'service'])\n",
      "\n",
      "Text:  I found the food to be outstanding , particulary the salmon dish I had .\n",
      "Original Aspects set(['food', 'dish', 'salmon'])\n",
      "Predicted Aspects set(['food', 'dish'])\n",
      "\n",
      "Text:  this is can became on e of the NY Italian Food fare institutions .\n",
      "Original Aspects set(['Food', 'fare'])\n",
      "Predicted Aspects set(['Food'])\n",
      "\n",
      "Text:  Great friendly service , Fast seating , Fast Delivery , Excellent sushi .\n",
      "Original Aspects set(['seating', 'sushi', 'service'])\n",
      "Predicted Aspects set(['sushi', 'service'])\n",
      "\n",
      "Text:  If you like your music blasted and the system isnt that great and if you want to pay at least 100 dollar bottle minimun then you'll love it here .\n",
      "Original Aspects set(['music', 'bottle'])\n",
      "Predicted Aspects set(['music'])\n",
      "\n",
      "Text:  The food was delicious ( I had a halibut special , my husband had steak ) , and the service was top-notch .\n",
      "Original Aspects set(['food', 'service', 'special', 'halibut', 'husband'])\n",
      "Predicted Aspects set(['food', 'service', 'husband', 'special'])\n",
      "\n",
      "Text:  They tell me they are going to cover the garden in glass for the winter , so i'm looking forward to going there on a snowy night to enjoy it .\n",
      "Original Aspects set(['glass', 'winter'])\n",
      "Predicted Aspects set(['glass'])\n",
      "\n",
      "Text:  I started out with a Bombay beer which was big enough for two .\n",
      "Original Aspects set(['beer'])\n",
      "Predicted Aspects set([])\n",
      "\n",
      "Text:  Leon is an East Village gem : casual but hip , with well prepared basic French bistro fare , good specials , a warm and lively atmosphere .\n",
      "Original Aspects set(['fare', 'bistro', 'atmosphere', 'gem'])\n",
      "Predicted Aspects set(['bistro', 'atmosphere', 'gem'])\n",
      "\n",
      "Text:  The chicken pot pie is excpetiona , the cheeseburger huge and delictable , and the service professional wan warm .\n",
      "Original Aspects set(['chicken', 'cheeseburger', 'pie', 'service'])\n",
      "Predicted Aspects set(['chicken', 'pie', 'service'])\n",
      "\n",
      "Text:  The first time I went , and was completely taken by the live jazz band and atmosphere , I ordered the Lobster Cobb Salad .\n",
      "Original Aspects set(['band', 'atmosphere', 'Salad', 'time'])\n",
      "Predicted Aspects set(['atmosphere', 'time'])\n",
      "\n",
      "Text:  When asked about how a certain dish was prepared in comparison to a similar at other thai restaurants , he replied this is not Mcdonald's , every place makes things differently\n",
      "Original Aspects set(['dish', 'place'])\n",
      "Predicted Aspects set(['dish', 'thai', 'place'])\n",
      "\n",
      "Text:  If you like the food and the value you get from some of Chinatown restaurants , this is not the place for you .\n",
      "Original Aspects set(['food', 'place', 'value'])\n",
      "Predicted Aspects set(['food', 'place'])\n",
      "\n",
      "Text:  I stumbled upon this second floor walk-up two Fridays ago when I was with two friends in town from L . A .\n",
      "Original Aspects set(['town', 'floor'])\n",
      "Predicted Aspects set(['town'])\n",
      "\n",
      "Text:  The svc can be a bit rude at times , esp if you have big group , but overall the restaurant is a must !\n",
      "Original Aspects set(['must', 'group', 'restaurant'])\n",
      "Predicted Aspects set(['must', 'group', 'svc', 'restaurant'])\n",
      "\n",
      "Text:  I had the duck breast special on my last visit and it was incredible .\n",
      "Original Aspects set(['visit', 'breast', 'special'])\n",
      "Predicted Aspects set(['visit', 'special'])\n",
      "\n",
      "Text:  The food is tasty and portion sizes are appropriate .\n",
      "Original Aspects set(['food', 'portion'])\n",
      "Predicted Aspects set(['food'])\n",
      "\n",
      "Text:  The restaurant looks out over beautiful green lawns to the Hudson River and the Statue of Liberty .\n",
      "Original Aspects set(['Statue', 'restaurant'])\n",
      "Predicted Aspects set(['restaurant'])\n",
      "\n",
      "Text:  Whenever you need a Sushi fix , Mizu will be there with quality fish and great service .\n",
      "Original Aspects set(['fish', 'quality', 'service'])\n",
      "Predicted Aspects set(['fix', 'quality', 'fish', 'service'])\n",
      "\n",
      "Text:  Anybody who likes this place must be from a different planet , where greasy , dry and tasteless are complimentary .\n",
      "Original Aspects set(['planet', 'place', 'must'])\n",
      "Predicted Aspects set(['place', 'must'])\n",
      "\n",
      "Text:  I think that it is absolutely brilliant and well runned business operation .\n",
      "Original Aspects set(['operation'])\n",
      "Predicted Aspects set([])\n",
      "\n",
      "Text:  Downstairs lounge is always a good attraction\n",
      "Original Aspects set(['attraction'])\n",
      "Predicted Aspects set([])\n",
      "\n",
      "Text:  We both opted for a pasta dish and they were served timely and fresh .\n",
      "Original Aspects set(['pasta', 'dish'])\n",
      "Predicted Aspects set(['dish'])\n",
      "\n",
      "Text:  The owner and staff are all Japanese as well and that adds to the entire ambiance .\n",
      "Original Aspects set(['owner', 'staff'])\n",
      "Predicted Aspects set(['staff'])\n",
      "\n",
      "Text:  This is a fun restaurant to go to .\n",
      "Original Aspects set(['fun', 'restaurant'])\n",
      "Predicted Aspects set(['fun'])\n",
      "\n",
      "Text:  First went here to enjoy their garden terrace .\n",
      "Original Aspects set(['First'])\n",
      "Predicted Aspects set([])\n",
      "\n",
      "Text:  It melted in my little mouth and the perfect consistency-not too fishy , creamy , and slightly buttery .\n",
      "Original Aspects set(['mouth'])\n",
      "Predicted Aspects set(['consistency-not', 'mouth'])\n",
      "\n",
      "Text:  With the exception of our lemon salad that had so much pepper on it that our eyes started watering , the food here was decent , not great .\n",
      "Original Aspects set(['food', 'pepper', 'salad'])\n",
      "Predicted Aspects set(['food', 'salad'])\n",
      "\n",
      "\n",
      "Sentence Level Accuracy: 87.6%\n"
     ]
    }
   ],
   "source": [
    "results, pred_asp_train = sentence_accuracy(Sentences_test, POSTags_test, Aspects_test)\n",
    "print \"\\n\"+results"
   ]
  },
  {
   "cell_type": "markdown",
   "metadata": {},
   "source": [
    "#### Function for annotating an input sentence with the corresponding aspects"
   ]
  },
  {
   "cell_type": "code",
   "execution_count": 14,
   "metadata": {},
   "outputs": [],
   "source": [
    "def tag_sentence(sent):\n",
    "    inp=re.findall(r'\\w+|\\S+', sent)\n",
    "    pos=nltk.pos_tag(inp)\n",
    "    tags,asp,buf=[],[],\"\"\n",
    "    for i, w in enumerate(inp):\n",
    "        fts=vect.transform(features(inp,tags,pos,i))\n",
    "        tags.append(aspect_map[clf.predict(fts)[0]])\n",
    "        if tags[i]==\"ASP\":\n",
    "            asp.append(w)\n",
    "        if w in asp:\n",
    "            tags[i]=\"ASP\"\n",
    "        buf+=w+\"\\\\\"+tags[i]+\" \"\n",
    "    print \"Key Aspects: \", set(asp), \"\\n\"\n",
    "    return buf,asp"
   ]
  },
  {
   "cell_type": "markdown",
   "metadata": {},
   "source": [
    "### Some Examples:\n",
    "----------"
   ]
  },
  {
   "cell_type": "code",
   "execution_count": 15,
   "metadata": {},
   "outputs": [
    {
     "name": "stdout",
     "output_type": "stream",
     "text": [
      "Key Aspects:  set(['waiter', 'music']) \n",
      "\n",
      "The\\NASP waiter\\ASP was\\NASP rude\\NASP ,\\NASP but\\NASP the\\NASP music\\ASP was\\NASP good\\NASP !\\NASP \n"
     ]
    }
   ],
   "source": [
    "sentence=\"The waiter was rude, but the music was good!\"\n",
    "tagged_sent, pred_asp=tag_sentence(sentence)\n",
    "print tagged_sent"
   ]
  },
  {
   "cell_type": "code",
   "execution_count": 16,
   "metadata": {},
   "outputs": [
    {
     "name": "stdout",
     "output_type": "stream",
     "text": [
      "Key Aspects:  set(['ambience', 'food', 'place', 'service', 'staff']) \n",
      "\n",
      "It\\NASP 's\\NASP ambience\\ASP is\\NASP what\\NASP makes\\NASP it\\NASP different\\NASP from\\NASP other\\NASP places\\NASP .\\NASP Although\\NASP the\\NASP jungle\\NASP theme\\NASP is\\NASP quite\\NASP attractive\\NASP but\\NASP the\\NASP illumination\\NASP just\\NASP gave\\NASP us\\NASP migraine\\NASP !\\NASP The\\NASP food\\ASP is\\NASP okay\\NASP -ish.\\NASP Too\\NASP much\\NASP variety\\NASP but\\NASP not\\NASP delicious\\NASP at\\NASP all\\NASP .\\NASP Last\\NASP but\\NASP not\\NASP the\\NASP least\\NASP ,\\NASP the\\NASP staff\\ASP is\\NASP just\\NASP horrible\\NASP !\\NASP All\\NASP our\\NASP requests\\NASP went\\NASP unheeded\\NASP .\\NASP Never\\NASP seen\\NASP a\\NASP service\\ASP this\\NASP bad\\NASP !\\NASP We\\NASP kept\\NASP waiting\\NASP for\\NASP starters\\NASP but\\NASP the\\NASP staff\\ASP was\\NASP least\\NASP bothered\\NASP .\\NASP I\\NASP will\\NASP definitely\\NASP not\\NASP recommend\\NASP this\\NASP place\\ASP .\\NASP \n"
     ]
    }
   ],
   "source": [
    "sentence='''It's ambience is what makes it different from other places. \\\n",
    "            Although the jungle theme is quite attractive but the illumination just \\\n",
    "            gave us migraine! The food is okay-ish. Too much variety but not delicious \\\n",
    "            at all. Last but not the least, the staff is just horrible! All our requests \\\n",
    "            went unheeded. Never seen a service this bad! We kept waiting for starters but \\\n",
    "            the staff was least bothered. I will definitely not recommend this place.'''\n",
    "tagged_sent, pred_asp=tag_sentence(sentence)\n",
    "print tagged_sent"
   ]
  },
  {
   "cell_type": "code",
   "execution_count": 17,
   "metadata": {},
   "outputs": [
    {
     "name": "stdout",
     "output_type": "stream",
     "text": [
      "Key Aspects:  set(['decor', 'service', 'music', 'food', 'fish', 'visit', 'place', 'pasta', 'table', 'chicken', 'staff', 'pizza']) \n",
      "\n",
      "IPL\\NASP season\\NASP and\\NASP microbreweries\\NASP are\\NASP a\\NASP match\\NASP made\\NASP in\\NASP heaven\\NASP .\\NASP The\\NASP only\\NASP downer\\NASP to\\NASP this\\NASP is\\NASP being\\NASP able\\NASP to\\NASP find\\NASP parking\\NASP and\\NASP getting\\NASP a\\NASP table\\ASP .\\NASP Battling\\NASP the\\NASP crowds\\NASP we\\NASP were\\NASP able\\NASP to\\NASP visit\\ASP Downtown\\NASP recently\\NASP and\\NASP thanx\\NASP to\\NASP the\\NASP really\\NASP nice\\NASP and\\NASP courteous\\NASP staff\\ASP ,\\NASP we\\NASP were\\NASP able\\NASP to\\NASP get\\NASP a\\NASP table\\ASP shortly\\NASP .\\NASP Downtown\\NASP occupies\\NASP a\\NASP massive\\NASP place\\ASP and\\NASP has\\NASP space\\NASP for\\NASP many\\NASP covers\\NASP ,\\NASP but\\NASP thanx\\NASP to\\NASP its\\NASP popularity\\NASP it\\NASP 's\\NASP always\\NASP busy\\NASP .\\NASP Somehow\\NASP the\\NASP staff\\ASP does\\NASP a\\NASP good\\NASP job\\NASP of\\NASP keeping\\NASP up\\NASP even\\NASP on\\NASP the\\NASP busiest\\NASP days\\NASP .\\NASP We\\NASP ordered\\NASP beer\\NASP ,\\NASP chicken\\ASP tikka\\NASP pizza\\ASP ,\\NASP chilly\\NASP chicken\\ASP ,\\NASP chilly\\NASP fish\\ASP and\\NASP alfredo\\NASP pasta\\NASP .\\NASP The\\NASP wheat\\NASP beer\\NASP and\\NASP the\\NASP pizzas\\NASP stood\\NASP out\\NASP and\\NASP were\\NASP superb\\NASP .\\NASP The\\NASP chilly\\NASP chicken\\ASP and\\NASP chilly\\NASP fish\\ASP were\\NASP good\\NASP .\\NASP The\\NASP pasta\\ASP was\\NASP average\\NASP .\\NASP Overall\\NASP downtown\\NASP provides\\NASP good\\NASP decor\\ASP ,\\NASP great\\NASP food\\ASP and\\NASP service\\ASP .\\NASP The\\NASP only\\NASP thing\\NASP I\\NASP wish\\NASP were\\NASP better\\NASP ,\\NASP was\\NASP the\\NASP music\\ASP ,\\NASP which\\NASP was\\NASP very\\NASP inconsistent\\NASP and\\NASP old\\NASP -ish\\NASP on\\NASP the\\NASP day\\NASP I\\NASP went\\NASP .\\NASP \n"
     ]
    }
   ],
   "source": [
    "sentence='''IPL season and microbreweries are a match made in heaven. The only downer to this is being\n",
    "            able to find parking and getting a table. Battling the crowds we were able to visit Downtown\n",
    "            recently and thanx to the really nice and courteous staff, we were able to get a table shortly. \n",
    "            Downtown occupies a massive place and has space for many covers, but thanx to its popularity\n",
    "            it's always busy. Somehow the staff does a good job of keeping up even on the busiest days. \n",
    "            We ordered  beer, chicken tikka pizza, chilly chicken, chilly fish and alfredo pasta . \n",
    "            The wheat beer and the pizzas stood out and were superb. The chilly chicken and chilly fish \n",
    "            were good. The pasta was average. Overall downtown provides good decor, great food and service. \n",
    "            The only thing I wish were better, was the music, which was very inconsistent and old-ish on \n",
    "            the day I went.'''\n",
    "tagged_sent, pred_asp=tag_sentence(sentence)\n",
    "print tagged_sent"
   ]
  },
  {
   "cell_type": "code",
   "execution_count": 18,
   "metadata": {},
   "outputs": [
    {
     "name": "stdout",
     "output_type": "stream",
     "text": [
      "Key Aspects:  set(['Service', 'people', 'food', 'restaurant', 'music', 'place', 'time', 'table']) \n",
      "\n",
      "Dinner\\NASP at\\NASP this\\NASP Restaurant\\NASP ,\\NASP which\\NASP has\\NASP copied\\NASP every\\NASP bit\\NASP of\\NASP from\\NASP Barbeque\\NASP Nation\\NASP ,\\NASP was\\NASP just\\NASP okay\\NASP ,\\NASP no\\NASP great\\NASP milkshake\\NASP .\\NASP The\\NASP food\\ASP was\\NASP just\\NASP okay\\NASP .\\NASP You\\NASP might\\NASP like\\NASP the\\NASP food\\ASP if\\NASP this\\NASP is\\NASP your\\NASP first\\NASP time\\ASP ever\\NASP to\\NASP such\\NASP restaurants\\NASP .\\NASP Service\\ASP is\\NASP good\\NASP ,\\NASP the\\NASP guys\\NASP waiting\\NASP at\\NASP the\\NASP table\\ASP was\\NASP courteous\\NASP ,\\NASP prompt\\NASP n\\NASP fast\\NASP .\\NASP They\\NASP knew\\NASP it\\NASP 's\\NASP a\\NASP holiday\\NASP ,\\NASP hence\\NASP the\\NASP rush\\NASP and\\NASP ensured\\NASP all\\NASP guests\\NASP are\\NASP welcomed\\NASP .\\NASP The\\NASP only\\NASP thing\\NASP that\\NASP struck\\NASP my\\NASP good\\NASP sense\\NASP was\\NASP the\\NASP overtly\\NASP loud\\NASP music\\NASP by\\NASP this\\NASP live\\NASP band\\NASP .\\NASP The\\NASP loud\\NASP music\\ASP n\\NASP people\\ASP talking\\NASP loudly\\NASP as\\NASP they\\NASP placed\\NASP their\\NASP orders\\NASP was\\NASP not\\NASP a\\NASP good\\NASP feeling\\NASP .\\NASP I\\NASP love\\NASP eating\\NASP at\\NASP a\\NASP quite\\NASP place\\ASP .\\NASP But\\NASP this\\NASP restaurant\\ASP is\\NASP synonymous\\NASP to\\NASP the\\NASP word\\NASP DIN\\NASP .\\NASP \n"
     ]
    }
   ],
   "source": [
    "sentence='''Dinner at this Restaurant, which has copied every bit of from Barbeque Nation, was just okay \n",
    "            , no great milkshake . The food was just okay. You might like the food if this is your first time\n",
    "            ever to such restaurants. Service is good , the guys waiting at the table was courteous, prompt \n",
    "            n fast. They knew it's a holiday , hence the rush and ensured all guests are welcomed. The only\n",
    "            thing that struck my good sense was the overtly loud music by this live band. The loud music n\n",
    "            people talking loudly as they placed their orders was not a good feeling. I love eating at a \n",
    "            quite place. But this restaurant is synonymous to the word DIN.'''\n",
    "tagged_sent, pred_asp=tag_sentence(sentence)\n",
    "print tagged_sent"
   ]
  },
  {
   "cell_type": "markdown",
   "metadata": {},
   "source": [
    "### Experimentation with Word2Vec and clustering Similar Aspects.\n",
    "----------\n",
    "\n",
    "#### Using Gensim loading Google's pretrained Word2Vec model"
   ]
  },
  {
   "cell_type": "code",
   "execution_count": 19,
   "metadata": {},
   "outputs": [],
   "source": [
    "model = gensim.models.KeyedVectors.load_word2vec_format('GoogleNews-vectors-negative300.bin', binary=True)"
   ]
  },
  {
   "cell_type": "markdown",
   "metadata": {},
   "source": [
    "#### Reading a list of most common aspects"
   ]
  },
  {
   "cell_type": "code",
   "execution_count": 20,
   "metadata": {},
   "outputs": [],
   "source": [
    "with open(\"aspect_words_1k_restaurant_reviews\") as f:\n",
    "    data = f.readlines()"
   ]
  },
  {
   "cell_type": "markdown",
   "metadata": {},
   "source": [
    "#### Function to the convert the most common aspects list into corresponding word vectors."
   ]
  },
  {
   "cell_type": "code",
   "execution_count": 21,
   "metadata": {
    "collapsed": true
   },
   "outputs": [],
   "source": [
    "def load_word_vectors(data, save=None):\n",
    "    data=np.unique([d.replace('\\n','').lower() for d in data])\n",
    "    word_vectors=[]\n",
    "    first=True\n",
    "    for i,d in enumerate(data):\n",
    "        try:\n",
    "            word_vectors.append([[d],model.word_vec(d)])\n",
    "        except:\n",
    "            if first:\n",
    "                print \"Word2Vec model cannot find the following words: \"\n",
    "                first=False\n",
    "            print \"Not Found: \", d\n",
    "    print\n",
    "    if save!=None:\n",
    "        np.save(save, word_vectors)\n",
    "    names=[word for word,vec in word_vectors]\n",
    "    vectors=[vec for word,vec in word_vectors]\n",
    "    return names, vectors"
   ]
  },
  {
   "cell_type": "markdown",
   "metadata": {},
   "source": [
    "#### Unsupervised Machine Learning model for Clustering similar words based on word embeddings using Word2Vec."
   ]
  },
  {
   "cell_type": "code",
   "execution_count": 27,
   "metadata": {},
   "outputs": [
    {
     "name": "stdout",
     "output_type": "stream",
     "text": [
      "Word2Vec model cannot find the following words: \n",
      "Not Found:  apppetizer\n",
      "Not Found:  atmoshere\n",
      "Not Found:  candle-light\n",
      "Not Found:  daiquiry\n",
      "Not Found:  decour\n",
      "Not Found:  food-quality\n",
      "Not Found:  impecible\n",
      "Not Found:  joya\n",
      "Not Found:  maus\n",
      "Not Found:  menu-fare\n",
      "Not Found:  model/waitress\n",
      "Not Found:  moule\n",
      "Not Found:  mozzarellum\n",
      "Not Found:  panchetta\n",
      "Not Found:  penang\n",
      "Not Found:  raddichio\n",
      "Not Found:  refleshment\n",
      "Not Found:  sangrium\n",
      "Not Found:  sashimus\n",
      "Not Found:  trattorium\n",
      "\n"
     ]
    },
    {
     "data": {
      "text/plain": [
       "KMeans(algorithm='auto', copy_x=True, init='k-means++', max_iter=300,\n",
       "    n_clusters=6, n_init=10, n_jobs=1, precompute_distances='auto',\n",
       "    random_state=100, tol=0.0001, verbose=0)"
      ]
     },
     "execution_count": 27,
     "metadata": {},
     "output_type": "execute_result"
    }
   ],
   "source": [
    "clf2=KMeans(n_clusters=6, random_state=100)\n",
    "names_train, vectors_train= load_word_vectors(data)\n",
    "clf2.fit(vectors_train)"
   ]
  },
  {
   "cell_type": "markdown",
   "metadata": {},
   "source": [
    "#### Using the trained model displaying currently Clustered Aspects"
   ]
  },
  {
   "cell_type": "code",
   "execution_count": 28,
   "metadata": {
    "scrolled": false
   },
   "outputs": [
    {
     "name": "stdout",
     "output_type": "stream",
     "text": [
      "Cluster 0 : appetizer, bagel, bistro, branzino, cheeseburger, chef, chow, crust, cuisine, deli, dessert, dish, dosa, dumpling, entree, filet, fries, meal, menu, noodle, pancake, pasta, pastrami, pastry, patty, pie, pizza, pizzeria, ravioli, restaurant, sandwich, soup, spaghetti, steak, sushi, takeout, tempura, waiter, waitress\n",
      "\n",
      "Cluster 1 : ambience, anything, atmosphere, charm, conversation, crowd, delight, experience, flair, flavor, friend, fun, kid, laugh, music, noise, perfection, relaxing, reviewer, something, sound, stuff, style, taste, vibe\n",
      "\n",
      "Cluster 2 : beef, cheese, chicken, guacamole, lettuce, mayo, pepper, potato, rice, salad, sauce, scallion, seasoning\n",
      "\n",
      "Cluster 3 : caviar, crab, fish, halibut, lobster, oyster, salmon, seafood, shrimp, tuna, yellowtail\n",
      "\n",
      "Cluster 4 : banquet, bar, bathroom, beer, bottle, breast, cream, decor, dining, dinner, drink, entertainment, fare, fat, food, glass, hall, hostess, japan, juice, kiosk, lawn, lunch, mouth, neighborhood, palate, patron, plate, restraunt, resturant, room, seating, server, shop, sodium, street, table, thai, tupperware, waitstaff, water, wine\n",
      "\n",
      "Cluster 5 : afternoon, amount, area, assortment, attraction, balance, band, bargain, chip, choice, college, combination, company, cost, course, crew, date, deal, deficiency, delivery, effect, establishment, evening, excuse, exprience, factor, fallback, family, favorite, feature, first, floor, gem, group, guest, husband, idea, ingredient, jersey, kind, knowledge, location, meeting, minute, mix, money, moving, must, name, notch, occasion, occassion, operation, order, owner, pad, part, party, people, piece, place, planet, portion, post, price, quality, quantity, quarter, quiet, request, response, rest, roll, sake, saturday, service, setting, size, special, spot, staff, statue, sum, surprise, time, tip, town, trouble, type, value, variety, view, visit, wait, way, weather, week, winnie, winter, wong, work, world\n",
      "\n"
     ]
    }
   ],
   "source": [
    "def print_clusters(labels, names, ret=None):\n",
    "    clusters=[[] for i in range(clf2.n_clusters)]\n",
    "    for i,label in enumerate(labels):\n",
    "        clusters[label].append(names[i][0])\n",
    "    for i, c in enumerate(clusters):\n",
    "        print \"Cluster\",i,\":\", \", \".join(c)\n",
    "        print\n",
    "    if ret:\n",
    "        return clusters\n",
    "print_clusters(clf2.labels_, names_train)"
   ]
  },
  {
   "cell_type": "markdown",
   "metadata": {},
   "source": [
    "#### Assigning Clusters to the predicted aspects obtained through model-1 (LinearSVC)"
   ]
  },
  {
   "cell_type": "code",
   "execution_count": 29,
   "metadata": {},
   "outputs": [
    {
     "name": "stdout",
     "output_type": "stream",
     "text": [
      "Word2Vec model cannot find the following words: \n",
      "Not Found:  consistency-not\n",
      "\n",
      "Cluster 0 : appetizer, bagel, bistro, chef, crust, cuisine, dessert, dish, fries, meal, menu, pie, pizza, pizzeria, restaurant, sandwich, sushi, waiter\n",
      "\n",
      "Cluster 1 : ambience, anything, atmosphere, delight, experience, friend, fun, music, perfection, stuff, taste\n",
      "\n",
      "Cluster 2 : cheese, chicken, rice, salad, sauce, scallion\n",
      "\n",
      "Cluster 3 : caviar, crab, fish, lobster, salmon, seafood, shrimp, tuna\n",
      "\n",
      "Cluster 4 : bar, bathroom, bottle, cream, decor, dining, dinner, entertainment, food, glass, hall, lunch, mouth, neighborhood, room, svc, table, thai, water, wine\n",
      "\n",
      "Cluster 5 : amount, course, date, establishment, evening, family, favorite, feature, fix, gem, group, husband, location, money, must, notch, order, part, party, people, piece, place, portion, price, quality, roll, saturday, service, setting, size, special, staff, time, town, type, value, view, visit, wait, way, week, work, world\n",
      "\n"
     ]
    }
   ],
   "source": [
    "name_test, vectors_test=load_word_vectors(pred_asp_train)\n",
    "pred_clus=clf2.predict(vectors_test)\n",
    "print_clusters(pred_clus, name_test)"
   ]
  },
  {
   "cell_type": "markdown",
   "metadata": {},
   "source": [
    "#### Assigning Clusters to a custom list of aspects."
   ]
  },
  {
   "cell_type": "code",
   "execution_count": 30,
   "metadata": {},
   "outputs": [
    {
     "name": "stdout",
     "output_type": "stream",
     "text": [
      "\n",
      "Cluster 0 : biriyani, fillet, icecream, pasta, pizza, restaurant, sandwich, waiter\n",
      "\n",
      "Cluster 1 : ambience, music, song, theme\n",
      "\n",
      "Cluster 2 : chicken, mutton, pork\n",
      "\n",
      "Cluster 3 : fish, lobster\n",
      "\n",
      "Cluster 4 : food, furniture, table\n",
      "\n",
      "Cluster 5 : service, staff, waiting\n",
      "\n"
     ]
    },
    {
     "data": {
      "text/plain": [
       "[['biriyani',\n",
       "  'fillet',\n",
       "  'icecream',\n",
       "  'pasta',\n",
       "  'pizza',\n",
       "  'restaurant',\n",
       "  'sandwich',\n",
       "  'waiter'],\n",
       " ['ambience', 'music', 'song', 'theme'],\n",
       " ['chicken', 'mutton', 'pork'],\n",
       " ['fish', 'lobster'],\n",
       " ['food', 'furniture', 'table'],\n",
       " ['service', 'staff', 'waiting']]"
      ]
     },
     "execution_count": 30,
     "metadata": {},
     "output_type": "execute_result"
    }
   ],
   "source": [
    "inp_words=[\"food\", \"Biriyani\", \"fish\", \"song\", \"staff\", \"lobster\", \"restaurant\", \"mutton\",\\\n",
    "           \"pork\", \"sandwich\", \"icecream\", \"table\", \"waiting\", \"theme\", \"service\",\\\n",
    "           \"chicken\", \"waiter\", \"ambience\", \"furniture\", \"music\", \"pasta\", \"pizza\", \"fillet\"]\n",
    "\n",
    "name_test, vectors_test=load_word_vectors(inp_words)\n",
    "pred_clus=clf2.predict(vectors_test)\n",
    "\n",
    "print_clusters(pred_clus, name_test, ret=True)"
   ]
  },
  {
   "cell_type": "code",
   "execution_count": null,
   "metadata": {
    "collapsed": true
   },
   "outputs": [],
   "source": []
  },
  {
   "cell_type": "code",
   "execution_count": null,
   "metadata": {
    "collapsed": true
   },
   "outputs": [],
   "source": []
  }
 ],
 "metadata": {
  "anaconda-cloud": {},
  "kernelspec": {
   "display_name": "Python 3",
   "language": "python",
   "name": "python3"
  },
  "language_info": {
   "codemirror_mode": {
    "name": "ipython",
    "version": 3
   },
   "file_extension": ".py",
   "mimetype": "text/x-python",
   "name": "python",
   "nbconvert_exporter": "python",
   "pygments_lexer": "ipython3",
   "version": "3.6.3"
  }
 },
 "nbformat": 4,
 "nbformat_minor": 1
}
